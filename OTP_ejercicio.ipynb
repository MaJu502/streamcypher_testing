{
 "cells": [
  {
   "cell_type": "markdown",
   "metadata": {},
   "source": [
    "# Ejercicio Strem Cipher\n",
    "Marco A. Jurado 20308"
   ]
  },
  {
   "cell_type": "code",
   "execution_count": 171,
   "metadata": {},
   "outputs": [],
   "source": [
    "import random\n",
    "import os"
   ]
  },
  {
   "cell_type": "code",
   "execution_count": 172,
   "metadata": {},
   "outputs": [],
   "source": [
    "texto = 'Este es el mensaje que quiero cifrar'\n",
    "seed = 2 # Este es el valor con el cual se va a replicar el output del keystream"
   ]
  },
  {
   "cell_type": "markdown",
   "metadata": {},
   "source": [
    "## Keystream"
   ]
  },
  {
   "cell_type": "code",
   "execution_count": 173,
   "metadata": {},
   "outputs": [],
   "source": [
    "def get_ascii_chars():\n",
    "    retorno = ''\n",
    "    for i in range(32, 127):\n",
    "        retorno += chr(i)\n",
    "    return retorno"
   ]
  },
  {
   "cell_type": "code",
   "execution_count": 178,
   "metadata": {},
   "outputs": [
    {
     "name": "stdout",
     "output_type": "stream",
     "text": [
      "Y)Z`$SW!f6FWdytBt\\j:5tZ&h_+s =8pBf7Ñ\n"
     ]
    }
   ],
   "source": [
    "def generate_keystream(seed, length):\n",
    "    asciss = get_ascii_chars() + 'ñÑ'\n",
    "\n",
    "    random.seed(os.urandom(32) + str(seed).encode())\n",
    "\n",
    "    keystream = ''\n",
    "\n",
    "    for _ in range(length):\n",
    "        # Seleccionar un carácter aleatorio del alfabeto\n",
    "        keystream += random.choice(asciss)\n",
    "\n",
    "    return keystream\n",
    "\n",
    "G = generate_keystream(seed, len(texto))\n",
    "print(G)"
   ]
  },
  {
   "cell_type": "markdown",
   "metadata": {},
   "source": [
    "## Cifrado"
   ]
  },
  {
   "cell_type": "code",
   "execution_count": null,
   "metadata": {},
   "outputs": [],
   "source": []
  },
  {
   "cell_type": "markdown",
   "metadata": {},
   "source": [
    "## Descifrado"
   ]
  },
  {
   "cell_type": "markdown",
   "metadata": {},
   "source": []
  },
  {
   "cell_type": "markdown",
   "metadata": {},
   "source": [
    "## Preguntas\n",
    "#### ¿Cómo cambia el mensaje cifrado cuando cambias la clase?\n",
    "\n",
    "#### ¿Qué sucede si utilizamos el mismo keystream para cifrar dos mensajes diferentes?\n",
    "\n",
    "#### ¿Cómo afecta la longitus del keystream a la seguridad del cifrado?"
   ]
  }
 ],
 "metadata": {
  "kernelspec": {
   "display_name": "Python 3",
   "language": "python",
   "name": "python3"
  },
  "language_info": {
   "codemirror_mode": {
    "name": "ipython",
    "version": 3
   },
   "file_extension": ".py",
   "mimetype": "text/x-python",
   "name": "python",
   "nbconvert_exporter": "python",
   "pygments_lexer": "ipython3",
   "version": "3.10.5"
  }
 },
 "nbformat": 4,
 "nbformat_minor": 2
}
