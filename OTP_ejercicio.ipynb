{
 "cells": [
  {
   "cell_type": "markdown",
   "metadata": {},
   "source": [
    "# Ejercicio Strem Cipher\n",
    "Marco A. Jurado 20308"
   ]
  },
  {
   "cell_type": "code",
   "execution_count": 64,
   "metadata": {},
   "outputs": [],
   "source": [
    "import random\n",
    "import os"
   ]
  },
  {
   "cell_type": "code",
   "execution_count": 65,
   "metadata": {},
   "outputs": [],
   "source": [
    "inputCifrado = 'Este es el mensaje que quiero cifrar'\n",
    "seed = 2 # Este es el valor con el cual se va a replicar el output del keystream"
   ]
  },
  {
   "cell_type": "markdown",
   "metadata": {},
   "source": [
    "## ystream"
   ]
  },
  {
   "cell_type": "code",
   "execution_count": 66,
   "metadata": {},
   "outputs": [],
   "source": [
    "def get_ascii_chars():\n",
    "    retorno = ''\n",
    "    for i in range(32, 127):\n",
    "        retorno += chr(i)\n",
    "    return retorno"
   ]
  },
  {
   "cell_type": "code",
   "execution_count": 67,
   "metadata": {},
   "outputs": [
    {
     "name": "stdout",
     "output_type": "stream",
     "text": [
      "Keystream generada con los valores de llave y el largo de mensaje:\n",
      "    -> w0&hn(3r~O>IUme=UJlH)DP1Am;a0TñjNO8'\n"
     ]
    }
   ],
   "source": [
    "def generate_keystream(seed, length):\n",
    "    asciss = get_ascii_chars() + 'ñÑ'\n",
    "\n",
    "    random.seed(os.urandom(32) + str(seed).encode())\n",
    "\n",
    "    keystream = ''\n",
    "\n",
    "    for _ in range(length):\n",
    "        # Seleccionar un carácter aleatorio del alfabeto ascii que tiene todos los caracteres + ñ\n",
    "        keystream += random.choice(asciss)\n",
    "\n",
    "    return keystream\n",
    "\n",
    "G = generate_keystream(seed, len(inputCifrado))\n",
    "print('Keystream generada con los valores de llave y el largo de mensaje:\\n    ->', G)"
   ]
  },
  {
   "cell_type": "code",
   "execution_count": 68,
   "metadata": {},
   "outputs": [],
   "source": [
    "def convertir_letra_binario(x):\n",
    "    a = ord(x)\n",
    "\n",
    "    binario = ''\n",
    "    while a > 0:\n",
    "        residuo = a % 2\n",
    "        binario = str(residuo) + binario\n",
    "        a = a // 2\n",
    "    temp = 8 - len(binario)\n",
    "\n",
    "    retorno = ''\n",
    "    for i in range(temp):\n",
    "        retorno = retorno + '0'\n",
    "    retorno = retorno + binario\n",
    "    return retorno\n",
    "\n",
    "def convertir_binario_letra(x):\n",
    "    valor_decimal = 0\n",
    "\n",
    "    for i in range(8):\n",
    "        valor_decimal += int(x[i]) * (2 ** (len(x) - i - 1))\n",
    "\n",
    "\n",
    "    letra = chr(valor_decimal)\n",
    "    return letra\n",
    "\n",
    "def codificar_binario(x):\n",
    "    retorno = \"\"\n",
    "    for i in x:\n",
    "        retorno += convertir_letra_binario(i)\n",
    "    return retorno\n",
    "\n",
    "def decodificar_binario(x):\n",
    "    retorno = \"\"\n",
    "    for i in range(0, len(x), 8):\n",
    "        retorno += convertir_binario_letra(x[i:i+8])\n",
    "    return retorno\n",
    "\n",
    "def verificar_largo_llave_xor(x,y):\n",
    "    retorno = \"\"\n",
    "    temp = 0\n",
    "\n",
    "    for _ in range(len(x)):\n",
    "        retorno += y[temp]\n",
    "        temp = (temp + 1) % len(y) # modulo para asegurar que no sea más larga de la palabra\n",
    "\n",
    "    return retorno\n",
    "\n",
    "def coder_xor(x, y):\n",
    "    y = verificar_largo_llave_xor(x, y)\n",
    "\n",
    "    input_binario = codificar_binario(x)\n",
    "    y_binario = codificar_binario(y)\n",
    "\n",
    "    # XOR bit a bit\n",
    "    result_binario = ''\n",
    "    for i in range(len(input_binario)):\n",
    "        temp = 0\n",
    "        if input_binario[i] == '0' and y_binario[i] == '1':\n",
    "            temp = 1\n",
    "        elif input_binario[i] == '1' and y_binario[i] == '0':\n",
    "            temp = 1\n",
    "\n",
    "        result_binario = result_binario + str(temp)\n",
    "\n",
    "    result_texto = decodificar_binario(result_binario)\n",
    "\n",
    "    return result_texto"
   ]
  },
  {
   "cell_type": "markdown",
   "metadata": {},
   "source": [
    "## Cifrado\n",
    "Función de cifrado realizada"
   ]
  },
  {
   "cell_type": "code",
   "execution_count": 69,
   "metadata": {},
   "outputs": [
    {
     "data": {
      "text/plain": [
       "'2CR\\rNM@R\\x1b#\\x1e$0\\x03\\x16\\\\?/L9\\\\!p@4\\x04^\\x13_t\\x92\\x03(=YU'"
      ]
     },
     "execution_count": 69,
     "metadata": {},
     "output_type": "execute_result"
    }
   ],
   "source": [
    "def encryption(x, key):\n",
    "    input_binario = codificar_binario(x)\n",
    "    key_binario = codificar_binario(key)\n",
    "\n",
    "    key_binario = verificar_largo_llave_xor(input_binario, key_binario)\n",
    "\n",
    "    result_binario = ''\n",
    "    for i in range(len(input_binario)):\n",
    "        result_binario += str(int(input_binario[i]) ^ int(key_binario[i]))\n",
    "\n",
    "    result_texto = decodificar_binario(result_binario)\n",
    "    return result_texto\n",
    "\n",
    "outputCifrado = encryption(inputCifrado, G)\n",
    "outputCifrado"
   ]
  },
  {
   "cell_type": "markdown",
   "metadata": {},
   "source": [
    "## Descifrado\n",
    "Dado que se hace uso de la propiedad y pipeline con la función xor se puede hacer uso de exactamente la misma funcion y se obtiene el resultado descifrado."
   ]
  },
  {
   "cell_type": "code",
   "execution_count": 70,
   "metadata": {},
   "outputs": [
    {
     "data": {
      "text/plain": [
       "'Este es el mensaje que quiero cifrar'"
      ]
     },
     "execution_count": 70,
     "metadata": {},
     "output_type": "execute_result"
    }
   ],
   "source": [
    "def outputDescifrado(x,y):\n",
    "    return encryption(x,y)\n",
    "outputDescifradotemp = outputDescifrado(outputCifrado, G)\n",
    "outputDescifradotemp"
   ]
  },
  {
   "cell_type": "markdown",
   "metadata": {},
   "source": [
    "#### Prueba 1 - cambiando claves con el mismo texto"
   ]
  },
  {
   "cell_type": "code",
   "execution_count": 71,
   "metadata": {},
   "outputs": [
    {
     "name": "stdout",
     "output_type": "stream",
     "text": [
      "con la llave  2\n",
      "    -> QO?4UM;KgnfvQ6nTc\"*.Lsuj;\\\\;n7Jyr5+WGNd~>~,Q}0Vw]a4Ac|B \n",
      "con la llave  8\n",
      "    -> pg)R IlR/ñd1ThlaivVhQ~N!@kB#^73=]l.D(;AO3XgmU-]r*G;2o<4}\n",
      "con la llave  15\n",
      "    -> Kl`nTO&y?!@+l3ñ\\U>J*f&,zdP9DqsD,3JZ{KvnPk0}_gRpipp<!3ñ&(\n",
      "con la llave  150\n",
      "    ->  Ma4 V7t)8|@moL($?Lrt/'ÑuPXQi,A)/B\\7\\=K0,?R[)/VVÑ]dmp.#%\n",
      "con la llave  78\n",
      "    -> 21zR/{<d\\c:3!{y;(aAwHD= F3j;#</,d]{\\DpSUJA5'Ñ1k293gkTBKR\n",
      "con la llave  65132165\n",
      "    -> 'kp+&7AXZ-YpC\"q>u\" ps(9M7^/Gst;H|;_H(DJ7YZfBi&^IGa_eAh\"w\n",
      "con la llave  54646248\n",
      "    -> ;F1FdR6zN+6~QP4{)su#XkpFYeVC.2F1iÑDbrVi}M<-;>u!v60*xr/1f\n"
     ]
    }
   ],
   "source": [
    "texto_prueba1 = 'Este es el texto de la prueba numero 1 que quiero cifrar'\n",
    "seeds_prueba1 = [2,8,15,150,78,65132165,54646248]\n",
    "\n",
    "for i in seeds_prueba1:\n",
    "    print('con la llave ', i)\n",
    "    print('    ->', generate_keystream(i, len(texto_prueba1)))"
   ]
  },
  {
   "cell_type": "markdown",
   "metadata": {},
   "source": [
    "#### Prueba 2 - mismo keystream para dos mensajes"
   ]
  },
  {
   "cell_type": "code",
   "execution_count": 72,
   "metadata": {},
   "outputs": [
    {
     "name": "stdout",
     "output_type": "stream",
     "text": [
      "     ***** texto 1 ******\n",
      "llave obtenida: ^sH\\UoeG2%V` cK~Kc&im\\kYZRÑ+mpT/ms'1z;\n",
      "texto original:  Hola soy el texto 1 que vamos a probar\n",
      "texto cifrado:  \u0016\u001c$=u\u001c\n",
      ">\u0012@:@T\u00063\n",
      "$C\u0017I\u001c)\u000ey,3¼D\u001eP5\u000f\u001d\u0001HS\u001bI\n",
      "texto descifrado:  Hola soy el texto 1 que vamos a probar\n",
      "     ***** texto 2 ******\n",
      "llave obtenida: ^sH\\UoeG2%V` cK~Kc&im\\kYZRÑ+mpT/ms'1z;\n",
      "texto original:  Adios mundo yo soy el ultimo texto a cifrar\n",
      "texto cifrado:  \u001f\u0017!3&2\\A9@Y\fk\r$\u001a\u0006\f\u0001|\u001e5.;¼DM\u00041W\u0019\u001c\u0007PZX7\u0015:='\n",
      "texto descifrado:  Adios mundo yo soy el ultimo texto a cifrar\n"
     ]
    }
   ],
   "source": [
    "mensajes_prueba2 = ['Hola soy el texto 1 que vamos a probar', 'Adios mundo yo soy el ultimo texto a cifrar']\n",
    "llaveprueba2 = generate_keystream(54,len(mensajes_prueba2[0]))\n",
    "\n",
    "print('     ***** texto 1 ******')\n",
    "print('llave obtenida:', llaveprueba2)\n",
    "print('texto original: ', mensajes_prueba2[0])\n",
    "tempprueba21 = encryption(mensajes_prueba2[0], llaveprueba2)\n",
    "print('texto cifrado: ', tempprueba21)\n",
    "print('texto descifrado: ', outputDescifrado(tempprueba21, llaveprueba2))\n",
    "\n",
    "print('     ***** texto 2 ******')\n",
    "print('llave obtenida:', llaveprueba2)\n",
    "print('texto original: ', mensajes_prueba2[1])\n",
    "tempprueba22 = encryption(mensajes_prueba2[1], llaveprueba2)\n",
    "print('texto cifrado: ', tempprueba22)\n",
    "print('texto descifrado: ', outputDescifrado(tempprueba22, llaveprueba2))"
   ]
  },
  {
   "cell_type": "markdown",
   "metadata": {},
   "source": [
    "## Preguntas\n",
    "#### ¿Cómo cambia el mensaje cifrado cuando cambias la clave?\n",
    "En el caso del keystream esta cambiara totalmente la llave generada al cambiar la seed o clave utilizada. Esto se debe a que al cambiar dicho valor cambiamos todas las probabilidades aleatorias del output generando así una llave completamente distinta.\n",
    "\n",
    "#### ¿Qué sucede si utilizamos el mismo keystream para cifrar dos mensajes diferentes?\n",
    "Si utilizamos el mismo keystream podemos ver que obviamente obtendresmos la misma llave y un texto cifrado distinto según sea el texto de input. Sin embargo el proceso no se ve afectado en ningun sentido.\n",
    "\n",
    "#### ¿Cómo afecta la longitus del keystream a la seguridad del cifrado?\n",
    "En el caso de una llave de mayor longitud tendremos un proceso de cifrado del mensaje de mucha más seguridad. Esto tambien quiere decir que el proceso de que la llave sea adivinada, interceptada y demás es más dificil pues se cuentan con muchos caracteres para realizar el proceso complejo, dificil y sobre todo seguro."
   ]
  }
 ],
 "metadata": {
  "kernelspec": {
   "display_name": "Python 3",
   "language": "python",
   "name": "python3"
  },
  "language_info": {
   "codemirror_mode": {
    "name": "ipython",
    "version": 3
   },
   "file_extension": ".py",
   "mimetype": "text/x-python",
   "name": "python",
   "nbconvert_exporter": "python",
   "pygments_lexer": "ipython3",
   "version": "3.10.5"
  }
 },
 "nbformat": 4,
 "nbformat_minor": 2
}
