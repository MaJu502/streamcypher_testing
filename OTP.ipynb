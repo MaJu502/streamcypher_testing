{
 "cells": [
  {
   "cell_type": "markdown",
   "metadata": {},
   "source": [
    "# OTP\n",
    "Una sola llave que sirva una sola vez para encriptar algo. Estas llaves son muy largas y es una manera muy rápida de encriptar y desencriptar.<br>\n",
    "Keystream = mi texto cifrado cuando le aplico la llave de uso unico (One time pad) <br>\n",
    "La llave tiene que tener la misma cantidad de letras que el texto que quiero cifrar por lo que se vuelve un poco inpractico. <br>\n",
    "- Block cipher usa más recursos\n",
    "- Stream ciher usa menos recursos pero es un poco menos seguro\n",
    "- OTP usa XOR"
   ]
  },
  {
   "cell_type": "markdown",
   "metadata": {},
   "source": [
    "# Stream Cypher\n",
    "Cifro en secuencia de bits. Cuando junto mi llave OTP a un texto genero un Keystream.\n",
    "\n",
    "# Keystreams\n",
    "Un keystream es una cadena de datos posiblemente infinita con datos pseudoaleatorios donde se mandan los bits que se operan con XOR. Al decir pseudoaleatorio es que se genera una llave aleatoria de la misma cantidad del texto ingresado por lo tanto siempre tendra un tamaño fijo.\n",
    "\n",
    "# Proceso\n",
    "- Utiliza un proceso de 128/256 bits\n",
    "- Tomar un nonce digit de 64/128 bits\n",
    "- Tomar una llave (k) y generador keystream. Lo cual brinda una secuencia infinita de keystream ki\n",
    "- El objetivo es simular el OTP pero con una llave independiente"
   ]
  },
  {
   "cell_type": "markdown",
   "metadata": {},
   "source": [
    "# Flujo Pseudoaleatorio\n",
    "PRNG = números pseudoaleatorios <br>\n",
    "IV = Vector de inicialización <br>\n",
    "Función G = Función que transforma cadenas cortas en cadenas de bits G(s) <br> <br>\n",
    "\n",
    "semilla -> función G -> G(s) -> Distinguidor <- random <br><br>"
   ]
  }
 ],
 "metadata": {
  "language_info": {
   "name": "python"
  }
 },
 "nbformat": 4,
 "nbformat_minor": 2
}
